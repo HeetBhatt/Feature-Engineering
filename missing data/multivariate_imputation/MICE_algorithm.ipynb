{
 "cells": [
  {
   "cell_type": "markdown",
   "metadata": {},
   "source": [
    "<h3>Multivariate Imputation by Chained Equations for Missing Value</h3>"
   ]
  },
  {
   "cell_type": "markdown",
   "metadata": {},
   "source": [
    "using scikit learn"
   ]
  },
  {
   "cell_type": "code",
   "execution_count": 2,
   "metadata": {},
   "outputs": [],
   "source": [
    "import pandas as pd\n",
    "import numpy as np\n",
    "from  sklearn.model_selection import train_test_split\n",
    "from sklearn.linear_model import LinearRegression\n",
    "from sklearn.experimental import enable_iterative_imputer\n",
    "from sklearn.impute import IterativeImputer"
   ]
  },
  {
   "cell_type": "code",
   "execution_count": 3,
   "metadata": {},
   "outputs": [
    {
     "data": {
      "text/html": [
       "<div>\n",
       "<style scoped>\n",
       "    .dataframe tbody tr th:only-of-type {\n",
       "        vertical-align: middle;\n",
       "    }\n",
       "\n",
       "    .dataframe tbody tr th {\n",
       "        vertical-align: top;\n",
       "    }\n",
       "\n",
       "    .dataframe thead th {\n",
       "        text-align: right;\n",
       "    }\n",
       "</style>\n",
       "<table border=\"1\" class=\"dataframe\">\n",
       "  <thead>\n",
       "    <tr style=\"text-align: right;\">\n",
       "      <th></th>\n",
       "      <th>age</th>\n",
       "      <th>experience</th>\n",
       "      <th>salary</th>\n",
       "      <th>purchased</th>\n",
       "    </tr>\n",
       "  </thead>\n",
       "  <tbody>\n",
       "    <tr>\n",
       "      <th>0</th>\n",
       "      <td>25.0</td>\n",
       "      <td>NaN</td>\n",
       "      <td>50.0</td>\n",
       "      <td>0</td>\n",
       "    </tr>\n",
       "    <tr>\n",
       "      <th>1</th>\n",
       "      <td>27.0</td>\n",
       "      <td>3.0</td>\n",
       "      <td>NaN</td>\n",
       "      <td>1</td>\n",
       "    </tr>\n",
       "    <tr>\n",
       "      <th>2</th>\n",
       "      <td>29.0</td>\n",
       "      <td>5.0</td>\n",
       "      <td>110.0</td>\n",
       "      <td>1</td>\n",
       "    </tr>\n",
       "    <tr>\n",
       "      <th>3</th>\n",
       "      <td>31.0</td>\n",
       "      <td>7.0</td>\n",
       "      <td>140.0</td>\n",
       "      <td>0</td>\n",
       "    </tr>\n",
       "    <tr>\n",
       "      <th>4</th>\n",
       "      <td>33.0</td>\n",
       "      <td>9.0</td>\n",
       "      <td>170.0</td>\n",
       "      <td>1</td>\n",
       "    </tr>\n",
       "  </tbody>\n",
       "</table>\n",
       "</div>"
      ],
      "text/plain": [
       "    age  experience  salary  purchased\n",
       "0  25.0         NaN    50.0          0\n",
       "1  27.0         3.0     NaN          1\n",
       "2  29.0         5.0   110.0          1\n",
       "3  31.0         7.0   140.0          0\n",
       "4  33.0         9.0   170.0          1"
      ]
     },
     "execution_count": 3,
     "metadata": {},
     "output_type": "execute_result"
    }
   ],
   "source": [
    "df = pd.DataFrame({\n",
    "    'age': [25,27,29,31,33,np.nan],\n",
    "    'experience': [np.nan, 3,5,7,9,11],\n",
    "    'salary': [50, np.nan, 110,140,170,200],\n",
    "    'purchased' : [0,1,1,0,1,0]\n",
    "})\n",
    "df.head()"
   ]
  },
  {
   "cell_type": "code",
   "execution_count": 6,
   "metadata": {},
   "outputs": [],
   "source": [
    "X = df.drop(columns=['purchased'])\n",
    "y = df['purchased']"
   ]
  },
  {
   "cell_type": "code",
   "execution_count": 7,
   "metadata": {},
   "outputs": [
    {
     "data": {
      "text/html": [
       "<div>\n",
       "<style scoped>\n",
       "    .dataframe tbody tr th:only-of-type {\n",
       "        vertical-align: middle;\n",
       "    }\n",
       "\n",
       "    .dataframe tbody tr th {\n",
       "        vertical-align: top;\n",
       "    }\n",
       "\n",
       "    .dataframe thead th {\n",
       "        text-align: right;\n",
       "    }\n",
       "</style>\n",
       "<table border=\"1\" class=\"dataframe\">\n",
       "  <thead>\n",
       "    <tr style=\"text-align: right;\">\n",
       "      <th></th>\n",
       "      <th>age</th>\n",
       "      <th>experience</th>\n",
       "      <th>salary</th>\n",
       "    </tr>\n",
       "  </thead>\n",
       "  <tbody>\n",
       "    <tr>\n",
       "      <th>0</th>\n",
       "      <td>25.0</td>\n",
       "      <td>NaN</td>\n",
       "      <td>50.0</td>\n",
       "    </tr>\n",
       "    <tr>\n",
       "      <th>1</th>\n",
       "      <td>27.0</td>\n",
       "      <td>3.0</td>\n",
       "      <td>NaN</td>\n",
       "    </tr>\n",
       "    <tr>\n",
       "      <th>2</th>\n",
       "      <td>29.0</td>\n",
       "      <td>5.0</td>\n",
       "      <td>110.0</td>\n",
       "    </tr>\n",
       "    <tr>\n",
       "      <th>3</th>\n",
       "      <td>31.0</td>\n",
       "      <td>7.0</td>\n",
       "      <td>140.0</td>\n",
       "    </tr>\n",
       "    <tr>\n",
       "      <th>4</th>\n",
       "      <td>33.0</td>\n",
       "      <td>9.0</td>\n",
       "      <td>170.0</td>\n",
       "    </tr>\n",
       "  </tbody>\n",
       "</table>\n",
       "</div>"
      ],
      "text/plain": [
       "    age  experience  salary\n",
       "0  25.0         NaN    50.0\n",
       "1  27.0         3.0     NaN\n",
       "2  29.0         5.0   110.0\n",
       "3  31.0         7.0   140.0\n",
       "4  33.0         9.0   170.0"
      ]
     },
     "execution_count": 7,
     "metadata": {},
     "output_type": "execute_result"
    }
   ],
   "source": [
    "X.head()"
   ]
  },
  {
   "cell_type": "code",
   "execution_count": 8,
   "metadata": {},
   "outputs": [
    {
     "data": {
      "text/html": [
       "<div>\n",
       "<style scoped>\n",
       "    .dataframe tbody tr th:only-of-type {\n",
       "        vertical-align: middle;\n",
       "    }\n",
       "\n",
       "    .dataframe tbody tr th {\n",
       "        vertical-align: top;\n",
       "    }\n",
       "\n",
       "    .dataframe thead th {\n",
       "        text-align: right;\n",
       "    }\n",
       "</style>\n",
       "<table border=\"1\" class=\"dataframe\">\n",
       "  <thead>\n",
       "    <tr style=\"text-align: right;\">\n",
       "      <th></th>\n",
       "      <th>age</th>\n",
       "      <th>experience</th>\n",
       "      <th>salary</th>\n",
       "    </tr>\n",
       "  </thead>\n",
       "  <tbody>\n",
       "    <tr>\n",
       "      <th>age</th>\n",
       "      <td>1.0</td>\n",
       "      <td>1.0</td>\n",
       "      <td>1.0</td>\n",
       "    </tr>\n",
       "    <tr>\n",
       "      <th>experience</th>\n",
       "      <td>1.0</td>\n",
       "      <td>1.0</td>\n",
       "      <td>1.0</td>\n",
       "    </tr>\n",
       "    <tr>\n",
       "      <th>salary</th>\n",
       "      <td>1.0</td>\n",
       "      <td>1.0</td>\n",
       "      <td>1.0</td>\n",
       "    </tr>\n",
       "  </tbody>\n",
       "</table>\n",
       "</div>"
      ],
      "text/plain": [
       "            age  experience  salary\n",
       "age         1.0         1.0     1.0\n",
       "experience  1.0         1.0     1.0\n",
       "salary      1.0         1.0     1.0"
      ]
     },
     "execution_count": 8,
     "metadata": {},
     "output_type": "execute_result"
    }
   ],
   "source": [
    "X.corr()"
   ]
  },
  {
   "cell_type": "code",
   "execution_count": 11,
   "metadata": {},
   "outputs": [],
   "source": [
    "lr = LinearRegression()\n",
    "imp = IterativeImputer(estimator=lr,max_iter=30,imputation_order=\"roman\",tol=0,verbose=2)"
   ]
  },
  {
   "cell_type": "code",
   "execution_count": 12,
   "metadata": {},
   "outputs": [
    {
     "name": "stdout",
     "output_type": "stream",
     "text": [
      "[IterativeImputer] Completing matrix with shape (6, 3)\n",
      "[IterativeImputer] Ending imputation round 1/30, elapsed time 0.01\n",
      "[IterativeImputer] Change: 61.22518987714511, scaled tolerance: 0.0 \n",
      "[IterativeImputer] Ending imputation round 2/30, elapsed time 0.02\n",
      "[IterativeImputer] Change: 7.963767891095671, scaled tolerance: 0.0 \n",
      "[IterativeImputer] Ending imputation round 3/30, elapsed time 0.02\n",
      "[IterativeImputer] Change: 0.7509179143104348, scaled tolerance: 0.0 \n",
      "[IterativeImputer] Ending imputation round 4/30, elapsed time 0.02\n",
      "[IterativeImputer] Change: 0.013116467770018403, scaled tolerance: 0.0 \n",
      "[IterativeImputer] Ending imputation round 5/30, elapsed time 0.03\n",
      "[IterativeImputer] Change: 0.0008142526488512658, scaled tolerance: 0.0 \n",
      "[IterativeImputer] Ending imputation round 6/30, elapsed time 0.03\n",
      "[IterativeImputer] Change: 3.972059862178412e-05, scaled tolerance: 0.0 \n",
      "[IterativeImputer] Ending imputation round 7/30, elapsed time 0.03\n",
      "[IterativeImputer] Change: 2.1412899258166362e-06, scaled tolerance: 0.0 \n",
      "[IterativeImputer] Ending imputation round 8/30, elapsed time 0.04\n",
      "[IterativeImputer] Change: 1.1151944079301757e-07, scaled tolerance: 0.0 \n",
      "[IterativeImputer] Ending imputation round 9/30, elapsed time 0.04\n",
      "[IterativeImputer] Change: 5.882853315597458e-09, scaled tolerance: 0.0 \n",
      "[IterativeImputer] Ending imputation round 10/30, elapsed time 0.04\n",
      "[IterativeImputer] Change: 3.0885871638020035e-10, scaled tolerance: 0.0 \n",
      "[IterativeImputer] Ending imputation round 11/30, elapsed time 0.04\n",
      "[IterativeImputer] Change: 1.6200374375330284e-11, scaled tolerance: 0.0 \n",
      "[IterativeImputer] Ending imputation round 12/30, elapsed time 0.05\n",
      "[IterativeImputer] Change: 7.958078640513122e-13, scaled tolerance: 0.0 \n",
      "[IterativeImputer] Ending imputation round 13/30, elapsed time 0.06\n",
      "[IterativeImputer] Change: 2.842170943040401e-14, scaled tolerance: 0.0 \n",
      "[IterativeImputer] Ending imputation round 14/30, elapsed time 0.06\n",
      "[IterativeImputer] Change: 2.6645352591003757e-15, scaled tolerance: 0.0 \n",
      "[IterativeImputer] Ending imputation round 15/30, elapsed time 0.06\n",
      "[IterativeImputer] Change: 0.0, scaled tolerance: 0.0 \n",
      "[IterativeImputer] Ending imputation round 16/30, elapsed time 0.07\n",
      "[IterativeImputer] Change: 0.0, scaled tolerance: 0.0 \n",
      "[IterativeImputer] Ending imputation round 17/30, elapsed time 0.07\n",
      "[IterativeImputer] Change: 0.0, scaled tolerance: 0.0 \n",
      "[IterativeImputer] Ending imputation round 18/30, elapsed time 0.07\n",
      "[IterativeImputer] Change: 0.0, scaled tolerance: 0.0 \n",
      "[IterativeImputer] Ending imputation round 19/30, elapsed time 0.07\n",
      "[IterativeImputer] Change: 0.0, scaled tolerance: 0.0 \n",
      "[IterativeImputer] Ending imputation round 20/30, elapsed time 0.07\n",
      "[IterativeImputer] Change: 0.0, scaled tolerance: 0.0 \n",
      "[IterativeImputer] Ending imputation round 21/30, elapsed time 0.08\n",
      "[IterativeImputer] Change: 0.0, scaled tolerance: 0.0 \n",
      "[IterativeImputer] Ending imputation round 22/30, elapsed time 0.08\n",
      "[IterativeImputer] Change: 0.0, scaled tolerance: 0.0 \n",
      "[IterativeImputer] Ending imputation round 23/30, elapsed time 0.08\n",
      "[IterativeImputer] Change: 0.0, scaled tolerance: 0.0 \n",
      "[IterativeImputer] Ending imputation round 24/30, elapsed time 0.08\n",
      "[IterativeImputer] Change: 0.0, scaled tolerance: 0.0 \n",
      "[IterativeImputer] Ending imputation round 25/30, elapsed time 0.08\n",
      "[IterativeImputer] Change: 0.0, scaled tolerance: 0.0 \n",
      "[IterativeImputer] Ending imputation round 26/30, elapsed time 0.08\n",
      "[IterativeImputer] Change: 0.0, scaled tolerance: 0.0 \n",
      "[IterativeImputer] Ending imputation round 27/30, elapsed time 0.09\n",
      "[IterativeImputer] Change: 0.0, scaled tolerance: 0.0 \n",
      "[IterativeImputer] Ending imputation round 28/30, elapsed time 0.09\n",
      "[IterativeImputer] Change: 0.0, scaled tolerance: 0.0 \n",
      "[IterativeImputer] Ending imputation round 29/30, elapsed time 0.09\n",
      "[IterativeImputer] Change: 0.0, scaled tolerance: 0.0 \n",
      "[IterativeImputer] Ending imputation round 30/30, elapsed time 0.09\n",
      "[IterativeImputer] Change: 0.0, scaled tolerance: 0.0 \n"
     ]
    },
    {
     "name": "stderr",
     "output_type": "stream",
     "text": [
      "c:\\Users\\HEET BHATT\\AppData\\Local\\Programs\\Python\\Python311\\Lib\\site-packages\\sklearn\\impute\\_iterative.py:796: ConvergenceWarning: [IterativeImputer] Early stopping criterion not reached.\n",
      "  warnings.warn(\n"
     ]
    },
    {
     "data": {
      "text/plain": [
       "array([[ 25.,   1.,  50.],\n",
       "       [ 27.,   3.,  80.],\n",
       "       [ 29.,   5., 110.],\n",
       "       [ 31.,   7., 140.],\n",
       "       [ 33.,   9., 170.],\n",
       "       [ 35.,  11., 200.]])"
      ]
     },
     "execution_count": 12,
     "metadata": {},
     "output_type": "execute_result"
    }
   ],
   "source": [
    "imp.fit_transform(X)"
   ]
  },
  {
   "cell_type": "code",
   "execution_count": 17,
   "metadata": {},
   "outputs": [],
   "source": [
    "X_train,X_test,y_train,y_test = train_test_split(X,y,random_state=2,test_size = 0.2)"
   ]
  },
  {
   "cell_type": "code",
   "execution_count": 18,
   "metadata": {},
   "outputs": [
    {
     "data": {
      "text/html": [
       "<div>\n",
       "<style scoped>\n",
       "    .dataframe tbody tr th:only-of-type {\n",
       "        vertical-align: middle;\n",
       "    }\n",
       "\n",
       "    .dataframe tbody tr th {\n",
       "        vertical-align: top;\n",
       "    }\n",
       "\n",
       "    .dataframe thead th {\n",
       "        text-align: right;\n",
       "    }\n",
       "</style>\n",
       "<table border=\"1\" class=\"dataframe\">\n",
       "  <thead>\n",
       "    <tr style=\"text-align: right;\">\n",
       "      <th></th>\n",
       "      <th>age</th>\n",
       "      <th>experience</th>\n",
       "      <th>salary</th>\n",
       "    </tr>\n",
       "  </thead>\n",
       "  <tbody>\n",
       "    <tr>\n",
       "      <th>4</th>\n",
       "      <td>33.0</td>\n",
       "      <td>9.0</td>\n",
       "      <td>170.0</td>\n",
       "    </tr>\n",
       "    <tr>\n",
       "      <th>1</th>\n",
       "      <td>27.0</td>\n",
       "      <td>3.0</td>\n",
       "      <td>NaN</td>\n",
       "    </tr>\n",
       "  </tbody>\n",
       "</table>\n",
       "</div>"
      ],
      "text/plain": [
       "    age  experience  salary\n",
       "4  33.0         9.0   170.0\n",
       "1  27.0         3.0     NaN"
      ]
     },
     "execution_count": 18,
     "metadata": {},
     "output_type": "execute_result"
    }
   ],
   "source": [
    "X_test"
   ]
  },
  {
   "cell_type": "code",
   "execution_count": 19,
   "metadata": {},
   "outputs": [
    {
     "data": {
      "text/plain": [
       "[_ImputerTriplet(feat_idx=0, neighbor_feat_idx=array([1, 2]), estimator=LinearRegression()),\n",
       " _ImputerTriplet(feat_idx=1, neighbor_feat_idx=array([0, 2]), estimator=LinearRegression()),\n",
       " _ImputerTriplet(feat_idx=2, neighbor_feat_idx=array([0, 1]), estimator=LinearRegression()),\n",
       " _ImputerTriplet(feat_idx=0, neighbor_feat_idx=array([1, 2]), estimator=LinearRegression()),\n",
       " _ImputerTriplet(feat_idx=1, neighbor_feat_idx=array([0, 2]), estimator=LinearRegression()),\n",
       " _ImputerTriplet(feat_idx=2, neighbor_feat_idx=array([0, 1]), estimator=LinearRegression()),\n",
       " _ImputerTriplet(feat_idx=0, neighbor_feat_idx=array([1, 2]), estimator=LinearRegression()),\n",
       " _ImputerTriplet(feat_idx=1, neighbor_feat_idx=array([0, 2]), estimator=LinearRegression()),\n",
       " _ImputerTriplet(feat_idx=2, neighbor_feat_idx=array([0, 1]), estimator=LinearRegression()),\n",
       " _ImputerTriplet(feat_idx=0, neighbor_feat_idx=array([1, 2]), estimator=LinearRegression()),\n",
       " _ImputerTriplet(feat_idx=1, neighbor_feat_idx=array([0, 2]), estimator=LinearRegression()),\n",
       " _ImputerTriplet(feat_idx=2, neighbor_feat_idx=array([0, 1]), estimator=LinearRegression()),\n",
       " _ImputerTriplet(feat_idx=0, neighbor_feat_idx=array([1, 2]), estimator=LinearRegression()),\n",
       " _ImputerTriplet(feat_idx=1, neighbor_feat_idx=array([0, 2]), estimator=LinearRegression()),\n",
       " _ImputerTriplet(feat_idx=2, neighbor_feat_idx=array([0, 1]), estimator=LinearRegression()),\n",
       " _ImputerTriplet(feat_idx=0, neighbor_feat_idx=array([1, 2]), estimator=LinearRegression()),\n",
       " _ImputerTriplet(feat_idx=1, neighbor_feat_idx=array([0, 2]), estimator=LinearRegression()),\n",
       " _ImputerTriplet(feat_idx=2, neighbor_feat_idx=array([0, 1]), estimator=LinearRegression()),\n",
       " _ImputerTriplet(feat_idx=0, neighbor_feat_idx=array([1, 2]), estimator=LinearRegression()),\n",
       " _ImputerTriplet(feat_idx=1, neighbor_feat_idx=array([0, 2]), estimator=LinearRegression()),\n",
       " _ImputerTriplet(feat_idx=2, neighbor_feat_idx=array([0, 1]), estimator=LinearRegression()),\n",
       " _ImputerTriplet(feat_idx=0, neighbor_feat_idx=array([1, 2]), estimator=LinearRegression()),\n",
       " _ImputerTriplet(feat_idx=1, neighbor_feat_idx=array([0, 2]), estimator=LinearRegression()),\n",
       " _ImputerTriplet(feat_idx=2, neighbor_feat_idx=array([0, 1]), estimator=LinearRegression()),\n",
       " _ImputerTriplet(feat_idx=0, neighbor_feat_idx=array([1, 2]), estimator=LinearRegression()),\n",
       " _ImputerTriplet(feat_idx=1, neighbor_feat_idx=array([0, 2]), estimator=LinearRegression()),\n",
       " _ImputerTriplet(feat_idx=2, neighbor_feat_idx=array([0, 1]), estimator=LinearRegression()),\n",
       " _ImputerTriplet(feat_idx=0, neighbor_feat_idx=array([1, 2]), estimator=LinearRegression()),\n",
       " _ImputerTriplet(feat_idx=1, neighbor_feat_idx=array([0, 2]), estimator=LinearRegression()),\n",
       " _ImputerTriplet(feat_idx=2, neighbor_feat_idx=array([0, 1]), estimator=LinearRegression()),\n",
       " _ImputerTriplet(feat_idx=0, neighbor_feat_idx=array([1, 2]), estimator=LinearRegression()),\n",
       " _ImputerTriplet(feat_idx=1, neighbor_feat_idx=array([0, 2]), estimator=LinearRegression()),\n",
       " _ImputerTriplet(feat_idx=2, neighbor_feat_idx=array([0, 1]), estimator=LinearRegression()),\n",
       " _ImputerTriplet(feat_idx=0, neighbor_feat_idx=array([1, 2]), estimator=LinearRegression()),\n",
       " _ImputerTriplet(feat_idx=1, neighbor_feat_idx=array([0, 2]), estimator=LinearRegression()),\n",
       " _ImputerTriplet(feat_idx=2, neighbor_feat_idx=array([0, 1]), estimator=LinearRegression()),\n",
       " _ImputerTriplet(feat_idx=0, neighbor_feat_idx=array([1, 2]), estimator=LinearRegression()),\n",
       " _ImputerTriplet(feat_idx=1, neighbor_feat_idx=array([0, 2]), estimator=LinearRegression()),\n",
       " _ImputerTriplet(feat_idx=2, neighbor_feat_idx=array([0, 1]), estimator=LinearRegression()),\n",
       " _ImputerTriplet(feat_idx=0, neighbor_feat_idx=array([1, 2]), estimator=LinearRegression()),\n",
       " _ImputerTriplet(feat_idx=1, neighbor_feat_idx=array([0, 2]), estimator=LinearRegression()),\n",
       " _ImputerTriplet(feat_idx=2, neighbor_feat_idx=array([0, 1]), estimator=LinearRegression()),\n",
       " _ImputerTriplet(feat_idx=0, neighbor_feat_idx=array([1, 2]), estimator=LinearRegression()),\n",
       " _ImputerTriplet(feat_idx=1, neighbor_feat_idx=array([0, 2]), estimator=LinearRegression()),\n",
       " _ImputerTriplet(feat_idx=2, neighbor_feat_idx=array([0, 1]), estimator=LinearRegression()),\n",
       " _ImputerTriplet(feat_idx=0, neighbor_feat_idx=array([1, 2]), estimator=LinearRegression()),\n",
       " _ImputerTriplet(feat_idx=1, neighbor_feat_idx=array([0, 2]), estimator=LinearRegression()),\n",
       " _ImputerTriplet(feat_idx=2, neighbor_feat_idx=array([0, 1]), estimator=LinearRegression()),\n",
       " _ImputerTriplet(feat_idx=0, neighbor_feat_idx=array([1, 2]), estimator=LinearRegression()),\n",
       " _ImputerTriplet(feat_idx=1, neighbor_feat_idx=array([0, 2]), estimator=LinearRegression()),\n",
       " _ImputerTriplet(feat_idx=2, neighbor_feat_idx=array([0, 1]), estimator=LinearRegression()),\n",
       " _ImputerTriplet(feat_idx=0, neighbor_feat_idx=array([1, 2]), estimator=LinearRegression()),\n",
       " _ImputerTriplet(feat_idx=1, neighbor_feat_idx=array([0, 2]), estimator=LinearRegression()),\n",
       " _ImputerTriplet(feat_idx=2, neighbor_feat_idx=array([0, 1]), estimator=LinearRegression()),\n",
       " _ImputerTriplet(feat_idx=0, neighbor_feat_idx=array([1, 2]), estimator=LinearRegression()),\n",
       " _ImputerTriplet(feat_idx=1, neighbor_feat_idx=array([0, 2]), estimator=LinearRegression()),\n",
       " _ImputerTriplet(feat_idx=2, neighbor_feat_idx=array([0, 1]), estimator=LinearRegression()),\n",
       " _ImputerTriplet(feat_idx=0, neighbor_feat_idx=array([1, 2]), estimator=LinearRegression()),\n",
       " _ImputerTriplet(feat_idx=1, neighbor_feat_idx=array([0, 2]), estimator=LinearRegression()),\n",
       " _ImputerTriplet(feat_idx=2, neighbor_feat_idx=array([0, 1]), estimator=LinearRegression()),\n",
       " _ImputerTriplet(feat_idx=0, neighbor_feat_idx=array([1, 2]), estimator=LinearRegression()),\n",
       " _ImputerTriplet(feat_idx=1, neighbor_feat_idx=array([0, 2]), estimator=LinearRegression()),\n",
       " _ImputerTriplet(feat_idx=2, neighbor_feat_idx=array([0, 1]), estimator=LinearRegression()),\n",
       " _ImputerTriplet(feat_idx=0, neighbor_feat_idx=array([1, 2]), estimator=LinearRegression()),\n",
       " _ImputerTriplet(feat_idx=1, neighbor_feat_idx=array([0, 2]), estimator=LinearRegression()),\n",
       " _ImputerTriplet(feat_idx=2, neighbor_feat_idx=array([0, 1]), estimator=LinearRegression()),\n",
       " _ImputerTriplet(feat_idx=0, neighbor_feat_idx=array([1, 2]), estimator=LinearRegression()),\n",
       " _ImputerTriplet(feat_idx=1, neighbor_feat_idx=array([0, 2]), estimator=LinearRegression()),\n",
       " _ImputerTriplet(feat_idx=2, neighbor_feat_idx=array([0, 1]), estimator=LinearRegression()),\n",
       " _ImputerTriplet(feat_idx=0, neighbor_feat_idx=array([1, 2]), estimator=LinearRegression()),\n",
       " _ImputerTriplet(feat_idx=1, neighbor_feat_idx=array([0, 2]), estimator=LinearRegression()),\n",
       " _ImputerTriplet(feat_idx=2, neighbor_feat_idx=array([0, 1]), estimator=LinearRegression()),\n",
       " _ImputerTriplet(feat_idx=0, neighbor_feat_idx=array([1, 2]), estimator=LinearRegression()),\n",
       " _ImputerTriplet(feat_idx=1, neighbor_feat_idx=array([0, 2]), estimator=LinearRegression()),\n",
       " _ImputerTriplet(feat_idx=2, neighbor_feat_idx=array([0, 1]), estimator=LinearRegression()),\n",
       " _ImputerTriplet(feat_idx=0, neighbor_feat_idx=array([1, 2]), estimator=LinearRegression()),\n",
       " _ImputerTriplet(feat_idx=1, neighbor_feat_idx=array([0, 2]), estimator=LinearRegression()),\n",
       " _ImputerTriplet(feat_idx=2, neighbor_feat_idx=array([0, 1]), estimator=LinearRegression()),\n",
       " _ImputerTriplet(feat_idx=0, neighbor_feat_idx=array([1, 2]), estimator=LinearRegression()),\n",
       " _ImputerTriplet(feat_idx=1, neighbor_feat_idx=array([0, 2]), estimator=LinearRegression()),\n",
       " _ImputerTriplet(feat_idx=2, neighbor_feat_idx=array([0, 1]), estimator=LinearRegression()),\n",
       " _ImputerTriplet(feat_idx=0, neighbor_feat_idx=array([1, 2]), estimator=LinearRegression()),\n",
       " _ImputerTriplet(feat_idx=1, neighbor_feat_idx=array([0, 2]), estimator=LinearRegression()),\n",
       " _ImputerTriplet(feat_idx=2, neighbor_feat_idx=array([0, 1]), estimator=LinearRegression()),\n",
       " _ImputerTriplet(feat_idx=0, neighbor_feat_idx=array([1, 2]), estimator=LinearRegression()),\n",
       " _ImputerTriplet(feat_idx=1, neighbor_feat_idx=array([0, 2]), estimator=LinearRegression()),\n",
       " _ImputerTriplet(feat_idx=2, neighbor_feat_idx=array([0, 1]), estimator=LinearRegression()),\n",
       " _ImputerTriplet(feat_idx=0, neighbor_feat_idx=array([1, 2]), estimator=LinearRegression()),\n",
       " _ImputerTriplet(feat_idx=1, neighbor_feat_idx=array([0, 2]), estimator=LinearRegression()),\n",
       " _ImputerTriplet(feat_idx=2, neighbor_feat_idx=array([0, 1]), estimator=LinearRegression())]"
      ]
     },
     "execution_count": 19,
     "metadata": {},
     "output_type": "execute_result"
    }
   ],
   "source": [
    "imp.imputation_sequence_"
   ]
  },
  {
   "cell_type": "code",
   "execution_count": 20,
   "metadata": {},
   "outputs": [
    {
     "name": "stdout",
     "output_type": "stream",
     "text": [
      "[0.58860759 0.05590717]\n",
      "18.597046413502106\n"
     ]
    }
   ],
   "source": [
    "print(imp.imputation_sequence_[0][2].coef_)\n",
    "print(imp.imputation_sequence_[0][2].intercept_)"
   ]
  },
  {
   "cell_type": "code",
   "execution_count": 21,
   "metadata": {},
   "outputs": [
    {
     "name": "stdout",
     "output_type": "stream",
     "text": [
      "[IterativeImputer] Completing matrix with shape (2, 3)\n",
      "[IterativeImputer] Ending imputation round 1/30, elapsed time 0.00\n",
      "[IterativeImputer] Ending imputation round 2/30, elapsed time 0.00\n",
      "[IterativeImputer] Ending imputation round 3/30, elapsed time 0.00\n",
      "[IterativeImputer] Ending imputation round 4/30, elapsed time 0.00\n",
      "[IterativeImputer] Ending imputation round 5/30, elapsed time 0.00\n",
      "[IterativeImputer] Ending imputation round 6/30, elapsed time 0.00\n",
      "[IterativeImputer] Ending imputation round 7/30, elapsed time 0.00\n",
      "[IterativeImputer] Ending imputation round 8/30, elapsed time 0.00\n",
      "[IterativeImputer] Ending imputation round 9/30, elapsed time 0.00\n",
      "[IterativeImputer] Ending imputation round 10/30, elapsed time 0.00\n",
      "[IterativeImputer] Ending imputation round 11/30, elapsed time 0.00\n",
      "[IterativeImputer] Ending imputation round 12/30, elapsed time 0.00\n",
      "[IterativeImputer] Ending imputation round 13/30, elapsed time 0.00\n",
      "[IterativeImputer] Ending imputation round 14/30, elapsed time 0.01\n",
      "[IterativeImputer] Ending imputation round 15/30, elapsed time 0.01\n",
      "[IterativeImputer] Ending imputation round 16/30, elapsed time 0.01\n",
      "[IterativeImputer] Ending imputation round 17/30, elapsed time 0.01\n",
      "[IterativeImputer] Ending imputation round 18/30, elapsed time 0.01\n",
      "[IterativeImputer] Ending imputation round 19/30, elapsed time 0.01\n",
      "[IterativeImputer] Ending imputation round 20/30, elapsed time 0.01\n",
      "[IterativeImputer] Ending imputation round 21/30, elapsed time 0.01\n",
      "[IterativeImputer] Ending imputation round 22/30, elapsed time 0.01\n",
      "[IterativeImputer] Ending imputation round 23/30, elapsed time 0.01\n",
      "[IterativeImputer] Ending imputation round 24/30, elapsed time 0.01\n",
      "[IterativeImputer] Ending imputation round 25/30, elapsed time 0.01\n",
      "[IterativeImputer] Ending imputation round 26/30, elapsed time 0.01\n",
      "[IterativeImputer] Ending imputation round 27/30, elapsed time 0.01\n",
      "[IterativeImputer] Ending imputation round 28/30, elapsed time 0.01\n",
      "[IterativeImputer] Ending imputation round 29/30, elapsed time 0.01\n",
      "[IterativeImputer] Ending imputation round 30/30, elapsed time 0.01\n"
     ]
    },
    {
     "data": {
      "text/plain": [
       "array([[ 33.,   9., 170.],\n",
       "       [ 27.,   3.,  80.]])"
      ]
     },
     "execution_count": 21,
     "metadata": {},
     "output_type": "execute_result"
    }
   ],
   "source": [
    "imp.transform(X_test)"
   ]
  },
  {
   "cell_type": "code",
   "execution_count": null,
   "metadata": {},
   "outputs": [],
   "source": []
  }
 ],
 "metadata": {
  "kernelspec": {
   "display_name": "Python 3",
   "language": "python",
   "name": "python3"
  },
  "language_info": {
   "codemirror_mode": {
    "name": "ipython",
    "version": 3
   },
   "file_extension": ".py",
   "mimetype": "text/x-python",
   "name": "python",
   "nbconvert_exporter": "python",
   "pygments_lexer": "ipython3",
   "version": "3.11.4"
  },
  "orig_nbformat": 4
 },
 "nbformat": 4,
 "nbformat_minor": 2
}
