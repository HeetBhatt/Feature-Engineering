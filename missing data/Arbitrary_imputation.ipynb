{
 "cells": [
  {
   "cell_type": "markdown",
   "metadata": {},
   "source": [
    "<h3>Arbitrary value imputation</h3>"
   ]
  },
  {
   "cell_type": "code",
   "execution_count": 1,
   "metadata": {},
   "outputs": [],
   "source": [
    "import pandas as pd\n",
    "import numpy as np\n",
    "import matplotlib.pyplot as plt\n",
    "from sklearn.model_selection import train_test_split\n",
    "from sklearn.compose import ColumnTransformer\n",
    "from sklearn.impute import SimpleImputer"
   ]
  },
  {
   "cell_type": "code",
   "execution_count": 2,
   "metadata": {},
   "outputs": [
    {
     "data": {
      "text/html": [
       "<div>\n",
       "<style scoped>\n",
       "    .dataframe tbody tr th:only-of-type {\n",
       "        vertical-align: middle;\n",
       "    }\n",
       "\n",
       "    .dataframe tbody tr th {\n",
       "        vertical-align: top;\n",
       "    }\n",
       "\n",
       "    .dataframe thead th {\n",
       "        text-align: right;\n",
       "    }\n",
       "</style>\n",
       "<table border=\"1\" class=\"dataframe\">\n",
       "  <thead>\n",
       "    <tr style=\"text-align: right;\">\n",
       "      <th></th>\n",
       "      <th>Age</th>\n",
       "      <th>Fare</th>\n",
       "      <th>Family</th>\n",
       "      <th>Survived</th>\n",
       "    </tr>\n",
       "  </thead>\n",
       "  <tbody>\n",
       "    <tr>\n",
       "      <th>0</th>\n",
       "      <td>22.0</td>\n",
       "      <td>7.2500</td>\n",
       "      <td>1</td>\n",
       "      <td>0</td>\n",
       "    </tr>\n",
       "    <tr>\n",
       "      <th>1</th>\n",
       "      <td>38.0</td>\n",
       "      <td>71.2833</td>\n",
       "      <td>1</td>\n",
       "      <td>1</td>\n",
       "    </tr>\n",
       "    <tr>\n",
       "      <th>2</th>\n",
       "      <td>26.0</td>\n",
       "      <td>7.9250</td>\n",
       "      <td>0</td>\n",
       "      <td>1</td>\n",
       "    </tr>\n",
       "    <tr>\n",
       "      <th>3</th>\n",
       "      <td>35.0</td>\n",
       "      <td>53.1000</td>\n",
       "      <td>1</td>\n",
       "      <td>1</td>\n",
       "    </tr>\n",
       "    <tr>\n",
       "      <th>4</th>\n",
       "      <td>35.0</td>\n",
       "      <td>8.0500</td>\n",
       "      <td>0</td>\n",
       "      <td>0</td>\n",
       "    </tr>\n",
       "  </tbody>\n",
       "</table>\n",
       "</div>"
      ],
      "text/plain": [
       "    Age     Fare  Family  Survived\n",
       "0  22.0   7.2500       1         0\n",
       "1  38.0  71.2833       1         1\n",
       "2  26.0   7.9250       0         1\n",
       "3  35.0  53.1000       1         1\n",
       "4  35.0   8.0500       0         0"
      ]
     },
     "execution_count": 2,
     "metadata": {},
     "output_type": "execute_result"
    }
   ],
   "source": [
    "df = pd.read_csv(\"titanic_toy.csv\")\n",
    "df.head()"
   ]
  },
  {
   "cell_type": "code",
   "execution_count": 3,
   "metadata": {},
   "outputs": [
    {
     "data": {
      "text/plain": [
       "(891, 4)"
      ]
     },
     "execution_count": 3,
     "metadata": {},
     "output_type": "execute_result"
    }
   ],
   "source": [
    "df.shape"
   ]
  },
  {
   "cell_type": "code",
   "execution_count": 4,
   "metadata": {},
   "outputs": [
    {
     "name": "stdout",
     "output_type": "stream",
     "text": [
      "<class 'pandas.core.frame.DataFrame'>\n",
      "RangeIndex: 891 entries, 0 to 890\n",
      "Data columns (total 4 columns):\n",
      " #   Column    Non-Null Count  Dtype  \n",
      "---  ------    --------------  -----  \n",
      " 0   Age       714 non-null    float64\n",
      " 1   Fare      846 non-null    float64\n",
      " 2   Family    891 non-null    int64  \n",
      " 3   Survived  891 non-null    int64  \n",
      "dtypes: float64(2), int64(2)\n",
      "memory usage: 28.0 KB\n"
     ]
    }
   ],
   "source": [
    "df.info()"
   ]
  },
  {
   "cell_type": "code",
   "execution_count": 5,
   "metadata": {},
   "outputs": [],
   "source": [
    "X_train,X_test,y_train,y_test = train_test_split(df.iloc[:,:3],df.iloc[:,3],random_state=42,test_size=0.2)"
   ]
  },
  {
   "cell_type": "code",
   "execution_count": 6,
   "metadata": {},
   "outputs": [
    {
     "data": {
      "text/plain": [
       "Age       19.662921\n",
       "Fare       5.056180\n",
       "Family     0.000000\n",
       "dtype: float64"
      ]
     },
     "execution_count": 6,
     "metadata": {},
     "output_type": "execute_result"
    }
   ],
   "source": [
    "X_train.isnull().mean()*100"
   ]
  },
  {
   "cell_type": "code",
   "execution_count": 7,
   "metadata": {},
   "outputs": [
    {
     "data": {
      "text/html": [
       "<div>\n",
       "<style scoped>\n",
       "    .dataframe tbody tr th:only-of-type {\n",
       "        vertical-align: middle;\n",
       "    }\n",
       "\n",
       "    .dataframe tbody tr th {\n",
       "        vertical-align: top;\n",
       "    }\n",
       "\n",
       "    .dataframe thead th {\n",
       "        text-align: right;\n",
       "    }\n",
       "</style>\n",
       "<table border=\"1\" class=\"dataframe\">\n",
       "  <thead>\n",
       "    <tr style=\"text-align: right;\">\n",
       "      <th></th>\n",
       "      <th>Age</th>\n",
       "      <th>Fare</th>\n",
       "      <th>Family</th>\n",
       "      <th>Age_0</th>\n",
       "      <th>Age_99</th>\n",
       "      <th>Fare_0</th>\n",
       "      <th>Fare_99</th>\n",
       "    </tr>\n",
       "  </thead>\n",
       "  <tbody>\n",
       "    <tr>\n",
       "      <th>331</th>\n",
       "      <td>45.5</td>\n",
       "      <td>28.5000</td>\n",
       "      <td>0</td>\n",
       "      <td>45.5</td>\n",
       "      <td>45.5</td>\n",
       "      <td>28.5000</td>\n",
       "      <td>28.5000</td>\n",
       "    </tr>\n",
       "    <tr>\n",
       "      <th>733</th>\n",
       "      <td>23.0</td>\n",
       "      <td>13.0000</td>\n",
       "      <td>0</td>\n",
       "      <td>23.0</td>\n",
       "      <td>23.0</td>\n",
       "      <td>13.0000</td>\n",
       "      <td>13.0000</td>\n",
       "    </tr>\n",
       "    <tr>\n",
       "      <th>382</th>\n",
       "      <td>32.0</td>\n",
       "      <td>7.9250</td>\n",
       "      <td>0</td>\n",
       "      <td>32.0</td>\n",
       "      <td>32.0</td>\n",
       "      <td>7.9250</td>\n",
       "      <td>7.9250</td>\n",
       "    </tr>\n",
       "    <tr>\n",
       "      <th>704</th>\n",
       "      <td>26.0</td>\n",
       "      <td>7.8542</td>\n",
       "      <td>1</td>\n",
       "      <td>26.0</td>\n",
       "      <td>26.0</td>\n",
       "      <td>7.8542</td>\n",
       "      <td>7.8542</td>\n",
       "    </tr>\n",
       "    <tr>\n",
       "      <th>813</th>\n",
       "      <td>6.0</td>\n",
       "      <td>31.2750</td>\n",
       "      <td>6</td>\n",
       "      <td>6.0</td>\n",
       "      <td>6.0</td>\n",
       "      <td>31.2750</td>\n",
       "      <td>31.2750</td>\n",
       "    </tr>\n",
       "  </tbody>\n",
       "</table>\n",
       "</div>"
      ],
      "text/plain": [
       "      Age     Fare  Family  Age_0  Age_99   Fare_0  Fare_99\n",
       "331  45.5  28.5000       0   45.5    45.5  28.5000  28.5000\n",
       "733  23.0  13.0000       0   23.0    23.0  13.0000  13.0000\n",
       "382  32.0   7.9250       0   32.0    32.0   7.9250   7.9250\n",
       "704  26.0   7.8542       1   26.0    26.0   7.8542   7.8542\n",
       "813   6.0  31.2750       6    6.0     6.0  31.2750  31.2750"
      ]
     },
     "execution_count": 7,
     "metadata": {},
     "output_type": "execute_result"
    }
   ],
   "source": [
    "X_train[\"Age_0\"] = X_train[\"Age\"].fillna(0)\n",
    "X_train[\"Age_99\"] = X_train[\"Age\"].fillna(99)\n",
    "X_train[\"Fare_0\"] = X_train[\"Fare\"].fillna(0)\n",
    "X_train[\"Fare_99\"] = X_train[\"Fare\"].fillna(99)\n",
    "X_train.head()"
   ]
  },
  {
   "cell_type": "code",
   "execution_count": 8,
   "metadata": {},
   "outputs": [
    {
     "name": "stdout",
     "output_type": "stream",
     "text": [
      "Original Age variable variance:  210.2517072477435\n",
      "Age Variance after median imputation:  306.50456824459934\n",
      "Age Variance after mean imputation:  932.9665366701432\n",
      "Original Fare variable variance:  2761.0314349486343\n",
      "Fare Variance after median imputation:  2672.064888561565\n",
      "Fare Variance after mean imputation:  2833.708690936761\n"
     ]
    }
   ],
   "source": [
    "# we have to check the variance now because we have filled missing values with mean and median\n",
    "# If there is drastic change in variance then we have to think about it\n",
    "print('Original Age variable variance: ', X_train['Age'].var())\n",
    "print('Age Variance after median imputation: ', X_train['Age_0'].var())\n",
    "print('Age Variance after mean imputation: ', X_train['Age_99'].var())\n",
    "\n",
    "print('Original Fare variable variance: ', X_train['Fare'].var())\n",
    "print('Fare Variance after median imputation: ', X_train['Fare_0'].var())\n",
    "print('Fare Variance after mean imputation: ', X_train['Fare_99'].var())"
   ]
  },
  {
   "cell_type": "code",
   "execution_count": 9,
   "metadata": {},
   "outputs": [
    {
     "data": {
      "text/plain": [
       "<matplotlib.legend.Legend at 0x1f339a12b10>"
      ]
     },
     "execution_count": 9,
     "metadata": {},
     "output_type": "execute_result"
    },
    {
     "data": {
      "image/png": "[encoded data removed]",
      "text/plain": [
       "<Figure size 640x480 with 1 Axes>"
      ]
     },
     "metadata": {},
     "output_type": "display_data"
    }
   ],
   "source": [
    "#we should check for distribution \n",
    "fig = plt.figure()\n",
    "ax = plt.subplot(111)\n",
    "# original value distribution\n",
    "X_train[\"Age\"].plot(kind=\"kde\",ax=ax)\n",
    "#mean\n",
    "X_train[\"Age_0\"].plot(kind=\"kde\",ax=ax,color=\"red\")\n",
    "#median\n",
    "X_train[\"Age_99\"].plot(kind=\"kde\",ax=ax,color=\"green\")\n",
    "plt.legend()"
   ]
  },
  {
   "cell_type": "code",
   "execution_count": 18,
   "metadata": {},
   "outputs": [
    {
     "data": {
      "text/plain": [
       "<matplotlib.legend.Legend at 0x1b26ae40650>"
      ]
     },
     "execution_count": 18,
     "metadata": {},
     "output_type": "execute_result"
    },
    {
     "data": {
      "image/png": "[encoded data removed]",
      "text/plain": [
       "<Figure size 640x480 with 1 Axes>"
      ]
     },
     "metadata": {},
     "output_type": "display_data"
    }
   ],
   "source": [
    "#we should check for distribution \n",
    "fig = plt.figure()\n",
    "ax = plt.subplot(111)\n",
    "# original value distribution\n",
    "X_train[\"Fare\"].plot(kind=\"kde\",ax=ax)\n",
    "#mean\n",
    "X_train[\"Fare_mean\"].plot(kind=\"kde\",ax=ax,color=\"red\")\n",
    "#median\n",
    "X_train[\"Fare_median\"].plot(kind=\"kde\",ax=ax,color=\"green\")\n",
    "plt.legend()"
   ]
  },
  {
   "cell_type": "code",
   "execution_count": 10,
   "metadata": {},
   "outputs": [
    {
     "data": {
      "text/html": [
       "<div>\n",
       "<style scoped>\n",
       "    .dataframe tbody tr th:only-of-type {\n",
       "        vertical-align: middle;\n",
       "    }\n",
       "\n",
       "    .dataframe tbody tr th {\n",
       "        vertical-align: top;\n",
       "    }\n",
       "\n",
       "    .dataframe thead th {\n",
       "        text-align: right;\n",
       "    }\n",
       "</style>\n",
       "<table border=\"1\" class=\"dataframe\">\n",
       "  <thead>\n",
       "    <tr style=\"text-align: right;\">\n",
       "      <th></th>\n",
       "      <th>Age</th>\n",
       "      <th>Fare</th>\n",
       "      <th>Family</th>\n",
       "      <th>Age_0</th>\n",
       "      <th>Age_99</th>\n",
       "      <th>Fare_0</th>\n",
       "      <th>Fare_99</th>\n",
       "    </tr>\n",
       "  </thead>\n",
       "  <tbody>\n",
       "    <tr>\n",
       "      <th>Age</th>\n",
       "      <td>210.251707</td>\n",
       "      <td>75.481375</td>\n",
       "      <td>-6.993325</td>\n",
       "      <td>210.251707</td>\n",
       "      <td>210.251707</td>\n",
       "      <td>69.198521</td>\n",
       "      <td>75.273024</td>\n",
       "    </tr>\n",
       "    <tr>\n",
       "      <th>Fare</th>\n",
       "      <td>75.481375</td>\n",
       "      <td>2761.031435</td>\n",
       "      <td>18.599163</td>\n",
       "      <td>133.308296</td>\n",
       "      <td>-111.965046</td>\n",
       "      <td>2761.031435</td>\n",
       "      <td>2761.031435</td>\n",
       "    </tr>\n",
       "    <tr>\n",
       "      <th>Family</th>\n",
       "      <td>-6.993325</td>\n",
       "      <td>18.599163</td>\n",
       "      <td>2.830892</td>\n",
       "      <td>-5.053631</td>\n",
       "      <td>-6.941982</td>\n",
       "      <td>17.683641</td>\n",
       "      <td>17.603852</td>\n",
       "    </tr>\n",
       "    <tr>\n",
       "      <th>Age_0</th>\n",
       "      <td>210.251707</td>\n",
       "      <td>133.308296</td>\n",
       "      <td>-5.053631</td>\n",
       "      <td>306.504568</td>\n",
       "      <td>-155.466410</td>\n",
       "      <td>122.151750</td>\n",
       "      <td>135.568073</td>\n",
       "    </tr>\n",
       "    <tr>\n",
       "      <th>Age_99</th>\n",
       "      <td>210.251707</td>\n",
       "      <td>-111.965046</td>\n",
       "      <td>-6.941982</td>\n",
       "      <td>-155.466410</td>\n",
       "      <td>932.966537</td>\n",
       "      <td>-101.290984</td>\n",
       "      <td>-116.528480</td>\n",
       "    </tr>\n",
       "    <tr>\n",
       "      <th>Fare_0</th>\n",
       "      <td>69.198521</td>\n",
       "      <td>2761.031435</td>\n",
       "      <td>17.683641</td>\n",
       "      <td>122.151750</td>\n",
       "      <td>-101.290984</td>\n",
       "      <td>2672.064889</td>\n",
       "      <td>2517.305934</td>\n",
       "    </tr>\n",
       "    <tr>\n",
       "      <th>Fare_99</th>\n",
       "      <td>75.273024</td>\n",
       "      <td>2761.031435</td>\n",
       "      <td>17.603852</td>\n",
       "      <td>135.568073</td>\n",
       "      <td>-116.528480</td>\n",
       "      <td>2517.305934</td>\n",
       "      <td>2833.708691</td>\n",
       "    </tr>\n",
       "  </tbody>\n",
       "</table>\n",
       "</div>"
      ],
      "text/plain": [
       "                Age         Fare     Family       Age_0      Age_99  \\\n",
       "Age      210.251707    75.481375  -6.993325  210.251707  210.251707   \n",
       "Fare      75.481375  2761.031435  18.599163  133.308296 -111.965046   \n",
       "Family    -6.993325    18.599163   2.830892   -5.053631   -6.941982   \n",
       "Age_0    210.251707   133.308296  -5.053631  306.504568 -155.466410   \n",
       "Age_99   210.251707  -111.965046  -6.941982 -155.466410  932.966537   \n",
       "Fare_0    69.198521  2761.031435  17.683641  122.151750 -101.290984   \n",
       "Fare_99   75.273024  2761.031435  17.603852  135.568073 -116.528480   \n",
       "\n",
       "              Fare_0      Fare_99  \n",
       "Age        69.198521    75.273024  \n",
       "Fare     2761.031435  2761.031435  \n",
       "Family     17.683641    17.603852  \n",
       "Age_0     122.151750   135.568073  \n",
       "Age_99   -101.290984  -116.528480  \n",
       "Fare_0   2672.064889  2517.305934  \n",
       "Fare_99  2517.305934  2833.708691  "
      ]
     },
     "execution_count": 10,
     "metadata": {},
     "output_type": "execute_result"
    }
   ],
   "source": [
    "#we have to check for correlation and covariance\n",
    "X_train.cov()"
   ]
  },
  {
   "cell_type": "code",
   "execution_count": 11,
   "metadata": {},
   "outputs": [
    {
     "data": {
      "text/html": [
       "<div>\n",
       "<style scoped>\n",
       "    .dataframe tbody tr th:only-of-type {\n",
       "        vertical-align: middle;\n",
       "    }\n",
       "\n",
       "    .dataframe tbody tr th {\n",
       "        vertical-align: top;\n",
       "    }\n",
       "\n",
       "    .dataframe thead th {\n",
       "        text-align: right;\n",
       "    }\n",
       "</style>\n",
       "<table border=\"1\" class=\"dataframe\">\n",
       "  <thead>\n",
       "    <tr style=\"text-align: right;\">\n",
       "      <th></th>\n",
       "      <th>Age</th>\n",
       "      <th>Fare</th>\n",
       "      <th>Family</th>\n",
       "      <th>Age_0</th>\n",
       "      <th>Age_99</th>\n",
       "      <th>Fare_0</th>\n",
       "      <th>Fare_99</th>\n",
       "    </tr>\n",
       "  </thead>\n",
       "  <tbody>\n",
       "    <tr>\n",
       "      <th>Age</th>\n",
       "      <td>1.000000</td>\n",
       "      <td>0.091482</td>\n",
       "      <td>-0.319651</td>\n",
       "      <td>1.000000</td>\n",
       "      <td>1.000000</td>\n",
       "      <td>0.085549</td>\n",
       "      <td>0.091016</td>\n",
       "    </tr>\n",
       "    <tr>\n",
       "      <th>Fare</th>\n",
       "      <td>0.091482</td>\n",
       "      <td>1.000000</td>\n",
       "      <td>0.207193</td>\n",
       "      <td>0.144625</td>\n",
       "      <td>-0.069365</td>\n",
       "      <td>1.000000</td>\n",
       "      <td>1.000000</td>\n",
       "    </tr>\n",
       "    <tr>\n",
       "      <th>Family</th>\n",
       "      <td>-0.319651</td>\n",
       "      <td>0.207193</td>\n",
       "      <td>1.000000</td>\n",
       "      <td>-0.171563</td>\n",
       "      <td>-0.135079</td>\n",
       "      <td>0.203323</td>\n",
       "      <td>0.196548</td>\n",
       "    </tr>\n",
       "    <tr>\n",
       "      <th>Age_0</th>\n",
       "      <td>1.000000</td>\n",
       "      <td>0.144625</td>\n",
       "      <td>-0.171563</td>\n",
       "      <td>1.000000</td>\n",
       "      <td>-0.290727</td>\n",
       "      <td>0.134976</td>\n",
       "      <td>0.145466</td>\n",
       "    </tr>\n",
       "    <tr>\n",
       "      <th>Age_99</th>\n",
       "      <td>1.000000</td>\n",
       "      <td>-0.069365</td>\n",
       "      <td>-0.135079</td>\n",
       "      <td>-0.290727</td>\n",
       "      <td>1.000000</td>\n",
       "      <td>-0.064153</td>\n",
       "      <td>-0.071667</td>\n",
       "    </tr>\n",
       "    <tr>\n",
       "      <th>Fare_0</th>\n",
       "      <td>0.085549</td>\n",
       "      <td>1.000000</td>\n",
       "      <td>0.203323</td>\n",
       "      <td>0.134976</td>\n",
       "      <td>-0.064153</td>\n",
       "      <td>1.000000</td>\n",
       "      <td>0.914818</td>\n",
       "    </tr>\n",
       "    <tr>\n",
       "      <th>Fare_99</th>\n",
       "      <td>0.091016</td>\n",
       "      <td>1.000000</td>\n",
       "      <td>0.196548</td>\n",
       "      <td>0.145466</td>\n",
       "      <td>-0.071667</td>\n",
       "      <td>0.914818</td>\n",
       "      <td>1.000000</td>\n",
       "    </tr>\n",
       "  </tbody>\n",
       "</table>\n",
       "</div>"
      ],
      "text/plain": [
       "              Age      Fare    Family     Age_0    Age_99    Fare_0   Fare_99\n",
       "Age      1.000000  0.091482 -0.319651  1.000000  1.000000  0.085549  0.091016\n",
       "Fare     0.091482  1.000000  0.207193  0.144625 -0.069365  1.000000  1.000000\n",
       "Family  -0.319651  0.207193  1.000000 -0.171563 -0.135079  0.203323  0.196548\n",
       "Age_0    1.000000  0.144625 -0.171563  1.000000 -0.290727  0.134976  0.145466\n",
       "Age_99   1.000000 -0.069365 -0.135079 -0.290727  1.000000 -0.064153 -0.071667\n",
       "Fare_0   0.085549  1.000000  0.203323  0.134976 -0.064153  1.000000  0.914818\n",
       "Fare_99  0.091016  1.000000  0.196548  0.145466 -0.071667  0.914818  1.000000"
      ]
     },
     "execution_count": 11,
     "metadata": {},
     "output_type": "execute_result"
    }
   ],
   "source": [
    "X_train.corr()"
   ]
  },
  {
   "cell_type": "code",
   "execution_count": 13,
   "metadata": {},
   "outputs": [
    {
     "data": {
      "text/plain": [
       "<Axes: >"
      ]
     },
     "execution_count": 13,
     "metadata": {},
     "output_type": "execute_result"
    },
    {
     "data": {
      "image/png": "[encoded data removed]",
      "text/plain": [
       "<Figure size 640x480 with 1 Axes>"
      ]
     },
     "metadata": {},
     "output_type": "display_data"
    }
   ],
   "source": [
    "#at last we should see the boxplot\n",
    "X_train[[\"Age\",\"Age_0\",\"Age_99\"]].boxplot()"
   ]
  },
  {
   "cell_type": "code",
   "execution_count": 14,
   "metadata": {},
   "outputs": [
    {
     "data": {
      "text/plain": [
       "<Axes: >"
      ]
     },
     "execution_count": 14,
     "metadata": {},
     "output_type": "execute_result"
    },
    {
     "data": {
      "image/png": "[encoded data removed]",
      "text/plain": [
       "<Figure size 640x480 with 1 Axes>"
      ]
     },
     "metadata": {},
     "output_type": "display_data"
    }
   ],
   "source": [
    "X_train[[\"Fare\",\"Fare_0\",\"Fare_99\"]].boxplot()"
   ]
  },
  {
   "cell_type": "code",
   "execution_count": null,
   "metadata": {},
   "outputs": [],
   "source": []
  }
 ],
 "metadata": {
  "kernelspec": {
   "display_name": "Python 3",
   "language": "python",
   "name": "python3"
  },
  "language_info": {
   "codemirror_mode": {
    "name": "ipython",
    "version": 3
   },
   "file_extension": ".py",
   "mimetype": "text/x-python",
   "name": "python",
   "nbconvert_exporter": "python",
   "pygments_lexer": "ipython3",
   "version": "3.11.4"
  },
  "orig_nbformat": 4
 },
 "nbformat": 4,
 "nbformat_minor": 2
}
